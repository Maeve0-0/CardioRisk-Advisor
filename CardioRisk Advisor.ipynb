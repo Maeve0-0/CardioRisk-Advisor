{
 "cells": [
  {
   "cell_type": "markdown",
   "id": "fb844def",
   "metadata": {},
   "source": [
    "# CardioRisk Advisor(CardioChat)"
   ]
  },
  {
   "cell_type": "markdown",
   "id": "4d495d9f",
   "metadata": {},
   "source": [
    "Step 1: Raw Input (Real-time)\n",
    "-------------------------------\n",
    "PPG Signal + Age, Sex, etc. → From camera or wearable\n",
    "\n",
    "Step 2: Blood Pressure Estimation\n",
    "----------------------------------\n",
    "Your trained model predicts:\n",
    "  → SBP (Systolic)\n",
    "  → DBP (Diastolic)\n",
    "\n",
    "Step 3: Heart Disease Risk Prediction\n",
    "--------------------------------------\n",
    "Another model uses:\n",
    "  → Predicted SBP/DBP\n",
    "  → Clinical info \n",
    "To predict:\n",
    "  → Probability of Heart Disease\n",
    "\n",
    "Step 4: Output via Web Interface\n",
    "----------------------------------\n",
    "UI shows:\n",
    "  - Estimated BP (e.g., 125/80)\n",
    "  - Heart disease risk (e.g., Moderate Risk: 64%)\n",
    "  - Optional: Next steps (see a doctor, record again tomorrow, etc.)#"
   ]
  },
  {
   "cell_type": "markdown",
   "id": "024bc811",
   "metadata": {},
   "source": []
  },
  {
   "cell_type": "code",
   "execution_count": 48,
   "id": "a94466d4",
   "metadata": {},
   "outputs": [],
   "source": [
    "import os\n",
    "\n",
    "import numpy as np\n",
    "import pandas as pd\n",
    "import seaborn as sns\n",
    "\n",
    "import torch\n",
    "import torch.nn as nn\n",
    "import torch.nn.functional as F\n",
    "from torch.utils.data import Dataset, DataLoader, TensorDataset\n",
    "\n",
    "from scipy import stats\n",
    "\n",
    "from sklearn.ensemble import RandomForestClassifier, RandomForestRegressor, GradientBoostingClassifier\n",
    "from sklearn.preprocessing import StandardScaler, LabelEncoder\n",
    "from sklearn.model_selection import train_test_split\n",
    "from sklearn.model_selection import GridSearchCV\n",
    "from sklearn.metrics import confusion_matrix, f1_score, precision_score, recall_score,mean_absolute_error\n",
    "from sklearn.impute import SimpleImputer\n",
    "from sklearn.pipeline import Pipeline\n",
    "from imblearn.over_sampling import SMOTE\n",
    "from sklearn.linear_model import LogisticRegression\n",
    "from sklearn.neural_network import MLPClassifier\n",
    "from sklearn.naive_bayes import GaussianNB\n",
    "from sklearn.metrics import roc_auc_score, brier_score_loss, log_loss, roc_curve, auc, RocCurveDisplay\n",
    "import pickle\n",
    "from sklearn.pipeline import Pipeline\n",
    "from sklearn.compose import ColumnTransformer\n",
    "from sklearn.preprocessing import StandardScaler, OneHotEncoder\n",
    "from sklearn.impute import SimpleImputer\n",
    "from sklearn.model_selection import StratifiedKFold, cross_val_score\n",
    "\n",
    "import matplotlib.pyplot as plt\n",
    "\n",
    "from tqdm import tqdm"
   ]
  },
  {
   "cell_type": "code",
   "execution_count": 2,
   "id": "e4e4d40a",
   "metadata": {},
   "outputs": [],
   "source": [
    "medical_df = pd.read_csv(\"framingham.csv\")\n",
    "df = medical_df.copy()"
   ]
  },
  {
   "cell_type": "code",
   "execution_count": 3,
   "id": "93860fce",
   "metadata": {},
   "outputs": [
    {
     "data": {
      "text/html": [
       "<div>\n",
       "<style scoped>\n",
       "    .dataframe tbody tr th:only-of-type {\n",
       "        vertical-align: middle;\n",
       "    }\n",
       "\n",
       "    .dataframe tbody tr th {\n",
       "        vertical-align: top;\n",
       "    }\n",
       "\n",
       "    .dataframe thead th {\n",
       "        text-align: right;\n",
       "    }\n",
       "</style>\n",
       "<table border=\"1\" class=\"dataframe\">\n",
       "  <thead>\n",
       "    <tr style=\"text-align: right;\">\n",
       "      <th></th>\n",
       "      <th>male</th>\n",
       "      <th>age</th>\n",
       "      <th>education</th>\n",
       "      <th>currentSmoker</th>\n",
       "      <th>cigsPerDay</th>\n",
       "      <th>BPMeds</th>\n",
       "      <th>prevalentStroke</th>\n",
       "      <th>prevalentHyp</th>\n",
       "      <th>diabetes</th>\n",
       "      <th>totChol</th>\n",
       "      <th>sysBP</th>\n",
       "      <th>diaBP</th>\n",
       "      <th>BMI</th>\n",
       "      <th>heartRate</th>\n",
       "      <th>glucose</th>\n",
       "      <th>TenYearCHD</th>\n",
       "    </tr>\n",
       "  </thead>\n",
       "  <tbody>\n",
       "    <tr>\n",
       "      <th>count</th>\n",
       "      <td>4240.000000</td>\n",
       "      <td>4240.000000</td>\n",
       "      <td>4135.000000</td>\n",
       "      <td>4240.000000</td>\n",
       "      <td>4211.000000</td>\n",
       "      <td>4187.000000</td>\n",
       "      <td>4240.000000</td>\n",
       "      <td>4240.000000</td>\n",
       "      <td>4240.000000</td>\n",
       "      <td>4190.000000</td>\n",
       "      <td>4240.000000</td>\n",
       "      <td>4240.000000</td>\n",
       "      <td>4221.000000</td>\n",
       "      <td>4239.000000</td>\n",
       "      <td>3852.000000</td>\n",
       "      <td>4240.000000</td>\n",
       "    </tr>\n",
       "    <tr>\n",
       "      <th>mean</th>\n",
       "      <td>0.429245</td>\n",
       "      <td>49.580189</td>\n",
       "      <td>1.979444</td>\n",
       "      <td>0.494104</td>\n",
       "      <td>9.005937</td>\n",
       "      <td>0.029615</td>\n",
       "      <td>0.005896</td>\n",
       "      <td>0.310613</td>\n",
       "      <td>0.025708</td>\n",
       "      <td>236.699523</td>\n",
       "      <td>132.354599</td>\n",
       "      <td>82.897759</td>\n",
       "      <td>25.800801</td>\n",
       "      <td>75.878981</td>\n",
       "      <td>81.963655</td>\n",
       "      <td>0.151887</td>\n",
       "    </tr>\n",
       "    <tr>\n",
       "      <th>std</th>\n",
       "      <td>0.495027</td>\n",
       "      <td>8.572942</td>\n",
       "      <td>1.019791</td>\n",
       "      <td>0.500024</td>\n",
       "      <td>11.922462</td>\n",
       "      <td>0.169544</td>\n",
       "      <td>0.076569</td>\n",
       "      <td>0.462799</td>\n",
       "      <td>0.158280</td>\n",
       "      <td>44.591284</td>\n",
       "      <td>22.033300</td>\n",
       "      <td>11.910394</td>\n",
       "      <td>4.079840</td>\n",
       "      <td>12.025348</td>\n",
       "      <td>23.954335</td>\n",
       "      <td>0.358953</td>\n",
       "    </tr>\n",
       "    <tr>\n",
       "      <th>min</th>\n",
       "      <td>0.000000</td>\n",
       "      <td>32.000000</td>\n",
       "      <td>1.000000</td>\n",
       "      <td>0.000000</td>\n",
       "      <td>0.000000</td>\n",
       "      <td>0.000000</td>\n",
       "      <td>0.000000</td>\n",
       "      <td>0.000000</td>\n",
       "      <td>0.000000</td>\n",
       "      <td>107.000000</td>\n",
       "      <td>83.500000</td>\n",
       "      <td>48.000000</td>\n",
       "      <td>15.540000</td>\n",
       "      <td>44.000000</td>\n",
       "      <td>40.000000</td>\n",
       "      <td>0.000000</td>\n",
       "    </tr>\n",
       "    <tr>\n",
       "      <th>25%</th>\n",
       "      <td>0.000000</td>\n",
       "      <td>42.000000</td>\n",
       "      <td>1.000000</td>\n",
       "      <td>0.000000</td>\n",
       "      <td>0.000000</td>\n",
       "      <td>0.000000</td>\n",
       "      <td>0.000000</td>\n",
       "      <td>0.000000</td>\n",
       "      <td>0.000000</td>\n",
       "      <td>206.000000</td>\n",
       "      <td>117.000000</td>\n",
       "      <td>75.000000</td>\n",
       "      <td>23.070000</td>\n",
       "      <td>68.000000</td>\n",
       "      <td>71.000000</td>\n",
       "      <td>0.000000</td>\n",
       "    </tr>\n",
       "    <tr>\n",
       "      <th>50%</th>\n",
       "      <td>0.000000</td>\n",
       "      <td>49.000000</td>\n",
       "      <td>2.000000</td>\n",
       "      <td>0.000000</td>\n",
       "      <td>0.000000</td>\n",
       "      <td>0.000000</td>\n",
       "      <td>0.000000</td>\n",
       "      <td>0.000000</td>\n",
       "      <td>0.000000</td>\n",
       "      <td>234.000000</td>\n",
       "      <td>128.000000</td>\n",
       "      <td>82.000000</td>\n",
       "      <td>25.400000</td>\n",
       "      <td>75.000000</td>\n",
       "      <td>78.000000</td>\n",
       "      <td>0.000000</td>\n",
       "    </tr>\n",
       "    <tr>\n",
       "      <th>75%</th>\n",
       "      <td>1.000000</td>\n",
       "      <td>56.000000</td>\n",
       "      <td>3.000000</td>\n",
       "      <td>1.000000</td>\n",
       "      <td>20.000000</td>\n",
       "      <td>0.000000</td>\n",
       "      <td>0.000000</td>\n",
       "      <td>1.000000</td>\n",
       "      <td>0.000000</td>\n",
       "      <td>263.000000</td>\n",
       "      <td>144.000000</td>\n",
       "      <td>90.000000</td>\n",
       "      <td>28.040000</td>\n",
       "      <td>83.000000</td>\n",
       "      <td>87.000000</td>\n",
       "      <td>0.000000</td>\n",
       "    </tr>\n",
       "    <tr>\n",
       "      <th>max</th>\n",
       "      <td>1.000000</td>\n",
       "      <td>70.000000</td>\n",
       "      <td>4.000000</td>\n",
       "      <td>1.000000</td>\n",
       "      <td>70.000000</td>\n",
       "      <td>1.000000</td>\n",
       "      <td>1.000000</td>\n",
       "      <td>1.000000</td>\n",
       "      <td>1.000000</td>\n",
       "      <td>696.000000</td>\n",
       "      <td>295.000000</td>\n",
       "      <td>142.500000</td>\n",
       "      <td>56.800000</td>\n",
       "      <td>143.000000</td>\n",
       "      <td>394.000000</td>\n",
       "      <td>1.000000</td>\n",
       "    </tr>\n",
       "  </tbody>\n",
       "</table>\n",
       "</div>"
      ],
      "text/plain": [
       "              male          age    education  currentSmoker   cigsPerDay  \\\n",
       "count  4240.000000  4240.000000  4135.000000    4240.000000  4211.000000   \n",
       "mean      0.429245    49.580189     1.979444       0.494104     9.005937   \n",
       "std       0.495027     8.572942     1.019791       0.500024    11.922462   \n",
       "min       0.000000    32.000000     1.000000       0.000000     0.000000   \n",
       "25%       0.000000    42.000000     1.000000       0.000000     0.000000   \n",
       "50%       0.000000    49.000000     2.000000       0.000000     0.000000   \n",
       "75%       1.000000    56.000000     3.000000       1.000000    20.000000   \n",
       "max       1.000000    70.000000     4.000000       1.000000    70.000000   \n",
       "\n",
       "            BPMeds  prevalentStroke  prevalentHyp     diabetes      totChol  \\\n",
       "count  4187.000000      4240.000000   4240.000000  4240.000000  4190.000000   \n",
       "mean      0.029615         0.005896      0.310613     0.025708   236.699523   \n",
       "std       0.169544         0.076569      0.462799     0.158280    44.591284   \n",
       "min       0.000000         0.000000      0.000000     0.000000   107.000000   \n",
       "25%       0.000000         0.000000      0.000000     0.000000   206.000000   \n",
       "50%       0.000000         0.000000      0.000000     0.000000   234.000000   \n",
       "75%       0.000000         0.000000      1.000000     0.000000   263.000000   \n",
       "max       1.000000         1.000000      1.000000     1.000000   696.000000   \n",
       "\n",
       "             sysBP        diaBP          BMI    heartRate      glucose  \\\n",
       "count  4240.000000  4240.000000  4221.000000  4239.000000  3852.000000   \n",
       "mean    132.354599    82.897759    25.800801    75.878981    81.963655   \n",
       "std      22.033300    11.910394     4.079840    12.025348    23.954335   \n",
       "min      83.500000    48.000000    15.540000    44.000000    40.000000   \n",
       "25%     117.000000    75.000000    23.070000    68.000000    71.000000   \n",
       "50%     128.000000    82.000000    25.400000    75.000000    78.000000   \n",
       "75%     144.000000    90.000000    28.040000    83.000000    87.000000   \n",
       "max     295.000000   142.500000    56.800000   143.000000   394.000000   \n",
       "\n",
       "        TenYearCHD  \n",
       "count  4240.000000  \n",
       "mean      0.151887  \n",
       "std       0.358953  \n",
       "min       0.000000  \n",
       "25%       0.000000  \n",
       "50%       0.000000  \n",
       "75%       0.000000  \n",
       "max       1.000000  "
      ]
     },
     "execution_count": 3,
     "metadata": {},
     "output_type": "execute_result"
    }
   ],
   "source": [
    "df.describe()"
   ]
  },
  {
   "cell_type": "code",
   "execution_count": 4,
   "id": "06a6971d",
   "metadata": {},
   "outputs": [
    {
     "name": "stdout",
     "output_type": "stream",
     "text": [
      "unique(male) = 2\n",
      "unique(age) = 39\n",
      "unique(education) = 5\n",
      "unique(currentSmoker) = 2\n",
      "unique(cigsPerDay) = 34\n",
      "unique(BPMeds) = 3\n",
      "unique(prevalentStroke) = 2\n",
      "unique(prevalentHyp) = 2\n",
      "unique(diabetes) = 2\n",
      "unique(totChol) = 249\n",
      "unique(sysBP) = 234\n",
      "unique(diaBP) = 146\n",
      "unique(BMI) = 1365\n",
      "unique(heartRate) = 74\n",
      "unique(glucose) = 144\n",
      "unique(TenYearCHD) = 2\n"
     ]
    }
   ],
   "source": [
    "for col in df.columns:\n",
    "  print(f'unique({col}) = {len(df[col].unique())}')"
   ]
  },
  {
   "cell_type": "code",
   "execution_count": 5,
   "id": "1267ab4e",
   "metadata": {},
   "outputs": [
    {
     "data": {
      "text/plain": [
       "male                 0\n",
       "age                  0\n",
       "education          105\n",
       "currentSmoker        0\n",
       "cigsPerDay          29\n",
       "BPMeds              53\n",
       "prevalentStroke      0\n",
       "prevalentHyp         0\n",
       "diabetes             0\n",
       "totChol             50\n",
       "sysBP                0\n",
       "diaBP                0\n",
       "BMI                 19\n",
       "heartRate            1\n",
       "glucose            388\n",
       "TenYearCHD           0\n",
       "dtype: int64"
      ]
     },
     "execution_count": 5,
     "metadata": {},
     "output_type": "execute_result"
    }
   ],
   "source": [
    "df.isna().sum()"
   ]
  },
  {
   "cell_type": "code",
   "execution_count": 6,
   "id": "240e7265",
   "metadata": {},
   "outputs": [
    {
     "data": {
      "text/plain": [
       "male               0.000000\n",
       "age                0.000000\n",
       "education          0.024764\n",
       "currentSmoker      0.000000\n",
       "cigsPerDay         0.006840\n",
       "BPMeds             0.012500\n",
       "prevalentStroke    0.000000\n",
       "prevalentHyp       0.000000\n",
       "diabetes           0.000000\n",
       "totChol            0.011792\n",
       "sysBP              0.000000\n",
       "diaBP              0.000000\n",
       "BMI                0.004481\n",
       "heartRate          0.000236\n",
       "glucose            0.091509\n",
       "TenYearCHD         0.000000\n",
       "dtype: float64"
      ]
     },
     "execution_count": 6,
     "metadata": {},
     "output_type": "execute_result"
    }
   ],
   "source": [
    "df.isnull().mean()\n"
   ]
  },
  {
   "cell_type": "code",
   "execution_count": 7,
   "id": "2144259e",
   "metadata": {},
   "outputs": [
    {
     "data": {
      "text/html": [
       "<div>\n",
       "<style scoped>\n",
       "    .dataframe tbody tr th:only-of-type {\n",
       "        vertical-align: middle;\n",
       "    }\n",
       "\n",
       "    .dataframe tbody tr th {\n",
       "        vertical-align: top;\n",
       "    }\n",
       "\n",
       "    .dataframe thead th {\n",
       "        text-align: right;\n",
       "    }\n",
       "</style>\n",
       "<table border=\"1\" class=\"dataframe\">\n",
       "  <thead>\n",
       "    <tr style=\"text-align: right;\">\n",
       "      <th></th>\n",
       "      <th>male</th>\n",
       "      <th>age</th>\n",
       "      <th>education</th>\n",
       "      <th>currentSmoker</th>\n",
       "      <th>cigsPerDay</th>\n",
       "      <th>BPMeds</th>\n",
       "      <th>prevalentStroke</th>\n",
       "      <th>prevalentHyp</th>\n",
       "      <th>diabetes</th>\n",
       "      <th>totChol</th>\n",
       "      <th>sysBP</th>\n",
       "      <th>diaBP</th>\n",
       "      <th>BMI</th>\n",
       "      <th>heartRate</th>\n",
       "      <th>glucose</th>\n",
       "      <th>TenYearCHD</th>\n",
       "    </tr>\n",
       "  </thead>\n",
       "  <tbody>\n",
       "    <tr>\n",
       "      <th>0</th>\n",
       "      <td>1</td>\n",
       "      <td>39</td>\n",
       "      <td>4.0</td>\n",
       "      <td>0</td>\n",
       "      <td>0.0</td>\n",
       "      <td>0.0</td>\n",
       "      <td>0</td>\n",
       "      <td>0</td>\n",
       "      <td>0</td>\n",
       "      <td>195.0</td>\n",
       "      <td>106.0</td>\n",
       "      <td>70.0</td>\n",
       "      <td>26.97</td>\n",
       "      <td>80.0</td>\n",
       "      <td>77.0</td>\n",
       "      <td>0</td>\n",
       "    </tr>\n",
       "    <tr>\n",
       "      <th>1</th>\n",
       "      <td>0</td>\n",
       "      <td>46</td>\n",
       "      <td>2.0</td>\n",
       "      <td>0</td>\n",
       "      <td>0.0</td>\n",
       "      <td>0.0</td>\n",
       "      <td>0</td>\n",
       "      <td>0</td>\n",
       "      <td>0</td>\n",
       "      <td>250.0</td>\n",
       "      <td>121.0</td>\n",
       "      <td>81.0</td>\n",
       "      <td>28.73</td>\n",
       "      <td>95.0</td>\n",
       "      <td>76.0</td>\n",
       "      <td>0</td>\n",
       "    </tr>\n",
       "    <tr>\n",
       "      <th>2</th>\n",
       "      <td>1</td>\n",
       "      <td>48</td>\n",
       "      <td>1.0</td>\n",
       "      <td>1</td>\n",
       "      <td>20.0</td>\n",
       "      <td>0.0</td>\n",
       "      <td>0</td>\n",
       "      <td>0</td>\n",
       "      <td>0</td>\n",
       "      <td>245.0</td>\n",
       "      <td>127.5</td>\n",
       "      <td>80.0</td>\n",
       "      <td>25.34</td>\n",
       "      <td>75.0</td>\n",
       "      <td>70.0</td>\n",
       "      <td>0</td>\n",
       "    </tr>\n",
       "    <tr>\n",
       "      <th>3</th>\n",
       "      <td>0</td>\n",
       "      <td>61</td>\n",
       "      <td>3.0</td>\n",
       "      <td>1</td>\n",
       "      <td>30.0</td>\n",
       "      <td>0.0</td>\n",
       "      <td>0</td>\n",
       "      <td>1</td>\n",
       "      <td>0</td>\n",
       "      <td>225.0</td>\n",
       "      <td>150.0</td>\n",
       "      <td>95.0</td>\n",
       "      <td>28.58</td>\n",
       "      <td>65.0</td>\n",
       "      <td>103.0</td>\n",
       "      <td>1</td>\n",
       "    </tr>\n",
       "    <tr>\n",
       "      <th>4</th>\n",
       "      <td>0</td>\n",
       "      <td>46</td>\n",
       "      <td>3.0</td>\n",
       "      <td>1</td>\n",
       "      <td>23.0</td>\n",
       "      <td>0.0</td>\n",
       "      <td>0</td>\n",
       "      <td>0</td>\n",
       "      <td>0</td>\n",
       "      <td>285.0</td>\n",
       "      <td>130.0</td>\n",
       "      <td>84.0</td>\n",
       "      <td>23.10</td>\n",
       "      <td>85.0</td>\n",
       "      <td>85.0</td>\n",
       "      <td>0</td>\n",
       "    </tr>\n",
       "  </tbody>\n",
       "</table>\n",
       "</div>"
      ],
      "text/plain": [
       "   male  age  education  currentSmoker  cigsPerDay  BPMeds  prevalentStroke  \\\n",
       "0     1   39        4.0              0         0.0     0.0                0   \n",
       "1     0   46        2.0              0         0.0     0.0                0   \n",
       "2     1   48        1.0              1        20.0     0.0                0   \n",
       "3     0   61        3.0              1        30.0     0.0                0   \n",
       "4     0   46        3.0              1        23.0     0.0                0   \n",
       "\n",
       "   prevalentHyp  diabetes  totChol  sysBP  diaBP    BMI  heartRate  glucose  \\\n",
       "0             0         0    195.0  106.0   70.0  26.97       80.0     77.0   \n",
       "1             0         0    250.0  121.0   81.0  28.73       95.0     76.0   \n",
       "2             0         0    245.0  127.5   80.0  25.34       75.0     70.0   \n",
       "3             1         0    225.0  150.0   95.0  28.58       65.0    103.0   \n",
       "4             0         0    285.0  130.0   84.0  23.10       85.0     85.0   \n",
       "\n",
       "   TenYearCHD  \n",
       "0           0  \n",
       "1           0  \n",
       "2           0  \n",
       "3           1  \n",
       "4           0  "
      ]
     },
     "execution_count": 7,
     "metadata": {},
     "output_type": "execute_result"
    }
   ],
   "source": [
    "df.head()"
   ]
  },
  {
   "cell_type": "code",
   "execution_count": 8,
   "id": "aa680535",
   "metadata": {},
   "outputs": [
    {
     "data": {
      "text/plain": [
       "TenYearCHD\n",
       "0    0.848113\n",
       "1    0.151887\n",
       "Name: proportion, dtype: float64"
      ]
     },
     "execution_count": 8,
     "metadata": {},
     "output_type": "execute_result"
    }
   ],
   "source": [
    "#Check class imbalance for the target variable\n",
    "df['TenYearCHD'].value_counts(normalize=True)\n"
   ]
  },
  {
   "cell_type": "markdown",
   "id": "4a454288",
   "metadata": {},
   "source": [
    "# Data Processing"
   ]
  },
  {
   "cell_type": "markdown",
   "id": "44137872",
   "metadata": {},
   "source": [
    "## Solving missing value problem"
   ]
  },
  {
   "cell_type": "code",
   "execution_count": 9,
   "id": "c9d4822a",
   "metadata": {},
   "outputs": [],
   "source": [
    "# Step 1: Split data into known and unknown glucose\n",
    "df_known = df[df['glucose'].notnull()].copy()\n",
    "df_unknown = df[df['glucose'].isnull()].copy()\n",
    "\n",
    "# Separate features and target\n",
    "X_known = df_known.drop(columns=['glucose'])\n",
    "y_known = df_known['glucose']\n",
    "X_unknown = df_unknown.drop(columns=['glucose'])"
   ]
  },
  {
   "cell_type": "code",
   "execution_count": 10,
   "id": "5a3a30dd",
   "metadata": {},
   "outputs": [
    {
     "data": {
      "text/plain": [
       "12.686900129701687"
      ]
     },
     "execution_count": 10,
     "metadata": {},
     "output_type": "execute_result"
    }
   ],
   "source": [
    "\n",
    "# Step 2: Train/Test split for evaluation\n",
    "X_train, X_val, y_train, y_val = train_test_split(X_known, y_known, test_size=0.2, random_state=42)\n",
    "\n",
    "# Step 3: Build a pipeline for imputation + random forest\n",
    "pipeline = Pipeline([\n",
    "    (\"imputer\", SimpleImputer(strategy=\"median\")),\n",
    "    (\"rf\", RandomForestRegressor(n_estimators=100, random_state=42))\n",
    "])\n",
    "\n",
    "# Step 4: Train and evaluate\n",
    "pipeline.fit(X_train, y_train)\n",
    "val_preds = pipeline.predict(X_val)\n",
    "mae = mean_absolute_error(y_val, val_preds)\n",
    "\n",
    "mae\n"
   ]
  },
  {
   "cell_type": "code",
   "execution_count": 12,
   "id": "78448804",
   "metadata": {},
   "outputs": [],
   "source": [
    "#Median Imputation\n",
    "#Glucose is right-skewed and continuous. Median is robust to outliers, unlike mean. Mode is inappropriate because glucose is continuous and rarely repeated.\n",
    "true_values = y_val  # or use y_test if you're using a test set\n",
    "median_value = df_known['glucose'].median()\n",
    "median_preds = np.full_like(true_values, fill_value=median_value)\n",
    "median_preds_kde = median_preds + np.random.normal(0, 0.01, size=median_preds.shape)\n"
   ]
  },
  {
   "cell_type": "code",
   "execution_count": 13,
   "id": "2db4caf3",
   "metadata": {},
   "outputs": [
    {
     "data": {
      "text/plain": [
       "(   male  age  education  currentSmoker  cigsPerDay  BPMeds  prevalentStroke  \\\n",
       " 0     1   39        4.0              0         0.0     0.0                0   \n",
       " 1     0   46        2.0              0         0.0     0.0                0   \n",
       " 2     1   48        1.0              1        20.0     0.0                0   \n",
       " 3     0   61        3.0              1        30.0     0.0                0   \n",
       " 4     0   46        3.0              1        23.0     0.0                0   \n",
       " \n",
       "    prevalentHyp  diabetes  totChol  sysBP  diaBP    BMI  heartRate  glucose  \\\n",
       " 0             0         0    195.0  106.0   70.0  26.97       80.0     77.0   \n",
       " 1             0         0    250.0  121.0   81.0  28.73       95.0     76.0   \n",
       " 2             0         0    245.0  127.5   80.0  25.34       75.0     70.0   \n",
       " 3             1         0    225.0  150.0   95.0  28.58       65.0    103.0   \n",
       " 4             0         0    285.0  130.0   84.0  23.10       85.0     85.0   \n",
       " \n",
       "    TenYearCHD  \n",
       " 0           0  \n",
       " 1           0  \n",
       " 2           0  \n",
       " 3           1  \n",
       " 4           0  ,\n",
       " 0)"
      ]
     },
     "execution_count": 13,
     "metadata": {},
     "output_type": "execute_result"
    }
   ],
   "source": [
    "# Step 5: Predict missing glucose values\n",
    "imputed_glucose = pipeline.predict(X_unknown)\n",
    "\n",
    "# Fill in the missing values in the original dataframe\n",
    "df_imputed = df.copy()\n",
    "df_imputed.loc[df_imputed['glucose'].isnull(), 'glucose'] = imputed_glucose\n",
    "X = df_imputed.drop(columns=['TenYearCHD'])\n",
    "y = df_imputed['TenYearCHD']\n",
    "\n",
    "# Confirm no missing glucose remains\n",
    "missing_after = df_imputed['glucose'].isnull().sum()\n",
    "df_imputed.head(), missing_after"
   ]
  },
  {
   "cell_type": "code",
   "execution_count": 16,
   "id": "d2a61de3",
   "metadata": {},
   "outputs": [
    {
     "data": {
      "image/png": "[encoded data removed]",
      "text/plain": [
       "<Figure size 1000x600 with 1 Axes>"
      ]
     },
     "metadata": {},
     "output_type": "display_data"
    }
   ],
   "source": [
    "true_values = y_val  # true glucose in validation set\n",
    "val_preds = pipeline.predict(X_val)\n",
    "model_preds = val_preds\n",
    "\n",
    "\n",
    "# Add small jitter to median predictions for visualization\n",
    "median_glucose = df_known['glucose'].median()  # define the missing variable\n",
    "median_preds_kde = median_glucose + np.random.normal(0, 0.5, size=len(y_val))\n",
    "  # very small noise\n",
    "\n",
    "# KDE plot with jittered median imputation\n",
    "plt.figure(figsize=(10, 6))\n",
    "sns.kdeplot(true_values, label='Original Glucose')\n",
    "sns.kdeplot(model_preds, label='ML Imputation (Random Forest)')\n",
    "sns.kdeplot(median_preds_kde, label='Median Imputation (Jittered)', linestyle='--')\n",
    "\n",
    "plt.title(\"KDE: Glucose Imputation - ML vs Median vs True\")\n",
    "plt.xlabel(\"Glucose\")\n",
    "plt.ylabel(\"Density\")\n",
    "plt.legend()\n",
    "plt.grid(True)\n",
    "plt.tight_layout()\n",
    "plt.show()"
   ]
  },
  {
   "cell_type": "markdown",
   "id": "e3a3840f",
   "metadata": {},
   "source": [
    "## Solving class imbalance problem"
   ]
  },
  {
   "cell_type": "code",
   "execution_count": 17,
   "id": "1ccabe80",
   "metadata": {},
   "outputs": [
    {
     "data": {
      "text/html": [
       "<div>\n",
       "<style scoped>\n",
       "    .dataframe tbody tr th:only-of-type {\n",
       "        vertical-align: middle;\n",
       "    }\n",
       "\n",
       "    .dataframe tbody tr th {\n",
       "        vertical-align: top;\n",
       "    }\n",
       "\n",
       "    .dataframe thead th {\n",
       "        text-align: right;\n",
       "    }\n",
       "</style>\n",
       "<table border=\"1\" class=\"dataframe\">\n",
       "  <thead>\n",
       "    <tr style=\"text-align: right;\">\n",
       "      <th></th>\n",
       "      <th>CHD Risk</th>\n",
       "      <th>Proportion</th>\n",
       "    </tr>\n",
       "  </thead>\n",
       "  <tbody>\n",
       "    <tr>\n",
       "      <th>0</th>\n",
       "      <td>0</td>\n",
       "      <td>0.5</td>\n",
       "    </tr>\n",
       "    <tr>\n",
       "      <th>1</th>\n",
       "      <td>1</td>\n",
       "      <td>0.5</td>\n",
       "    </tr>\n",
       "  </tbody>\n",
       "</table>\n",
       "</div>"
      ],
      "text/plain": [
       "   CHD Risk  Proportion\n",
       "0         0         0.5\n",
       "1         1         0.5"
      ]
     },
     "execution_count": 17,
     "metadata": {},
     "output_type": "execute_result"
    }
   ],
   "source": [
    "\n",
    "\n",
    "# Impute remaining missing values (for predictors like 'education', 'BPMeds' etc.)\n",
    "preprocessor = SimpleImputer(strategy='median')\n",
    "X_imputed = pd.DataFrame(preprocessor.fit_transform(X), columns=X.columns)\n",
    "\n",
    "# Apply SMOTE\n",
    "smote = SMOTE(random_state=42)\n",
    "X_resampled, y_resampled = smote.fit_resample(X_imputed, y)\n",
    "\n",
    "# Confirm new class distribution\n",
    "resampled_distribution = pd.Series(y_resampled).value_counts(normalize=True).rename_axis('CHD Risk').reset_index(name='Proportion')\n",
    "resampled_distribution"
   ]
  },
  {
   "cell_type": "markdown",
   "id": "a7031aac",
   "metadata": {},
   "source": [
    "# Modeling"
   ]
  },
  {
   "cell_type": "markdown",
   "id": "4bfbf963",
   "metadata": {},
   "source": [
    "## Model Selection for Probability-Based Prediction\n",
    "\n",
    "In this project, our goal is not just to classify whether a patient is at risk for heart disease (binary outcome), but to output a **probability score** indicating the likelihood of risk. This allows for:\n",
    "\n",
    "- Flexible decision thresholds \n",
    "- Risk-tier messaging in the UI \n",
    "- Better interpretability and clinical relevance\n",
    "\n",
    "The following machine learning models were selected because they **support probability outputs via `predict_proba()`**:\n",
    "\n",
    "| Model                                   | Probability Support | Notes                                                                 |\n",
    "|----------------------------------------|---------------------|-----------------------------------------------------------------------|\n",
    "| **Logistic Regression**                | Yes              | Outputs calibrated probabilities directly using a sigmoid function   |\n",
    "| **Random Forest**                      | Yes              | Aggregates tree probabilities; reasonably well-calibrated            |\n",
    "| **Gradient Boosting (XGBoost, LightGBM)** | Yes           | Returns probabilities; often benefits from calibration in practice   |\n",
    "| **MLPClassifier (Neural Network)**     | Yes              | Final layer uses sigmoid/softmax for probabilistic output            |\n",
    "| **Naive Bayes**                        | Yes              | Computes class-conditional probabilities from feature distributions  |\n",
    "\n",
    "\n",
    "All these models return probabilities through `predict_proba()`, making them ideal for **threshold-based decision logic** in the CardioAdvisor.ai system.\n"
   ]
  },
  {
   "cell_type": "code",
   "execution_count": 32,
   "id": "b70a9a6d",
   "metadata": {},
   "outputs": [],
   "source": [
    "# Feature groups\n",
    "categorical_features = ['education', 'BPMeds', 'prevalentStroke', 'prevalentHyp', 'diabetes', 'currentSmoker', 'male']\n",
    "numeric_features = ['age', 'cigsPerDay', 'totChol', 'BMI', 'heartRate', 'glucose', 'sysBP', 'diaBP']\n",
    "\n",
    "for col in categorical_features:\n",
    "    X_resampled[col] = X_resampled[col].astype('category')\n"
   ]
  },
  {
   "cell_type": "code",
   "execution_count": 33,
   "id": "a89c2b80",
   "metadata": {},
   "outputs": [],
   "source": [
    "# Preprocessor\n",
    "preprocessor = ColumnTransformer([\n",
    "    ('num', Pipeline([\n",
    "        ('imputer', SimpleImputer(strategy='median')),\n",
    "        ('scaler', StandardScaler())\n",
    "    ]), numeric_features),\n",
    "    ('cat', Pipeline([\n",
    "        ('imputer', SimpleImputer(strategy='most_frequent')),\n",
    "        ('encoder', OneHotEncoder(handle_unknown='ignore', sparse_output=False))\n",
    "    ]), categorical_features)\n",
    "])"
   ]
  },
  {
   "cell_type": "code",
   "execution_count": 34,
   "id": "9dd0fd2b",
   "metadata": {},
   "outputs": [],
   "source": [
    "# Models to compare\n",
    "\n",
    "models = {\n",
    "    'Random Forest': RandomForestClassifier(random_state=42),\n",
    "    'Gradient Boosting': GradientBoostingClassifier(random_state=42),\n",
    "    'Logistic Regression': LogisticRegression(max_iter=1000, random_state=42),\n",
    "    'MLP Classifier': MLPClassifier(max_iter=500, random_state=42),\n",
    "    'Naive Bayes': GaussianNB()\n",
    "}\n"
   ]
  },
  {
   "cell_type": "markdown",
   "id": "d88676cf",
   "metadata": {},
   "source": [
    "### Logistic Regression"
   ]
  },
  {
   "cell_type": "code",
   "execution_count": 40,
   "id": "1f9d3e85",
   "metadata": {},
   "outputs": [
    {
     "name": "stdout",
     "output_type": "stream",
     "text": [
      "Logistic Regression AUC: [0.70993857 0.96816566 0.97584344 0.96966309 0.97074054]\n",
      "Mean: 0.9189 | Std: 0.1045\n"
     ]
    }
   ],
   "source": [
    "lr_pipe = Pipeline([\n",
    "    ('preprocessor', preprocessor),\n",
    "    ('classifier', LogisticRegression(max_iter=1000, random_state=42))\n",
    "])\n",
    "\n",
    "lr_scores = cross_val_score(lr_pipe, X_resampled, y_resampled, cv=5, scoring='roc_auc', n_jobs=-1)\n",
    "print(\"Logistic Regression AUC:\", lr_scores)\n",
    "print(\"Mean:\", round(lr_scores.mean(), 4), \"| Std:\", round(lr_scores.std(), 4))"
   ]
  },
  {
   "cell_type": "markdown",
   "id": "f77cbd0e",
   "metadata": {},
   "source": [
    "### Random Forest"
   ]
  },
  {
   "cell_type": "code",
   "execution_count": 45,
   "id": "124442e8",
   "metadata": {},
   "outputs": [
    {
     "name": "stdout",
     "output_type": "stream",
     "text": [
      "Random Forest AUC: [0.86753883 0.99368239 0.99453827 0.99634402 0.99458953]\n",
      "Mean: 0.9693 | Std: 0.0509\n"
     ]
    }
   ],
   "source": [
    "rf_pipe = Pipeline([\n",
    "    ('preprocessor', preprocessor),\n",
    "    ('classifier', RandomForestClassifier(n_estimators=100, random_state=42))\n",
    "])\n",
    "\n",
    "rf_scores = cross_val_score(rf_pipe, X_resampled, y_resampled, cv=5, scoring='roc_auc', n_jobs=-1)\n",
    "print(\"Random Forest AUC:\", rf_scores)\n",
    "print(\"Mean:\", round(rf_scores.mean(), 4), \"| Std:\", round(rf_scores.std(), 4))"
   ]
  },
  {
   "cell_type": "markdown",
   "id": "72d0fecc",
   "metadata": {},
   "source": [
    "### MLPClassifier"
   ]
  },
  {
   "cell_type": "code",
   "execution_count": 46,
   "id": "63a52df7",
   "metadata": {},
   "outputs": [
    {
     "name": "stdout",
     "output_type": "stream",
     "text": [
      "MLPClassifier AUC: [0.65360068 0.96813476 0.96724705 0.97284515 0.97035753]\n",
      "Mean: 0.9064 | Std: 0.1264\n"
     ]
    }
   ],
   "source": [
    "mlp_pipe = Pipeline([\n",
    "    ('preprocessor', preprocessor),\n",
    "    ('classifier', MLPClassifier(max_iter=500, random_state=42))\n",
    "])\n",
    "\n",
    "mlp_scores = cross_val_score(mlp_pipe, X_resampled, y_resampled, cv=5, scoring='roc_auc', n_jobs=-1)\n",
    "print(\"MLPClassifier AUC:\", mlp_scores)\n",
    "print(\"Mean:\", round(mlp_scores.mean(), 4), \"| Std:\", round(mlp_scores.std(), 4))\n"
   ]
  },
  {
   "cell_type": "markdown",
   "id": "bb9a65c4",
   "metadata": {},
   "source": [
    "### Gradient Boosting"
   ]
  },
  {
   "cell_type": "code",
   "execution_count": 43,
   "id": "f69635c8",
   "metadata": {},
   "outputs": [
    {
     "name": "stdout",
     "output_type": "stream",
     "text": [
      "Gradient Boosting AUC Scores: [0.73687123 0.98115342 0.98589932 0.98092603 0.98215823]\n",
      "Mean: 0.9334 | Std: 0.0983\n"
     ]
    }
   ],
   "source": [
    "gb_pipe = Pipeline([\n",
    "    ('preprocessor', preprocessor),\n",
    "    ('classifier', GradientBoostingClassifier(n_estimators=100, random_state=42))\n",
    "])\n",
    "\n",
    "gb_scores = cross_val_score(gb_pipe, X_resampled, y_resampled, cv=5, scoring='roc_auc', n_jobs=-1)\n",
    "print(\"Gradient Boosting AUC Scores:\", gb_scores)\n",
    "print(\"Mean:\", round(gb_scores.mean(), 4), \"| Std:\", round(gb_scores.std(), 4))"
   ]
  },
  {
   "cell_type": "markdown",
   "id": "4ea97951",
   "metadata": {},
   "source": [
    "### Naive Bayes (Failed)"
   ]
  },
  {
   "cell_type": "code",
   "execution_count": 44,
   "id": "63463fc8",
   "metadata": {},
   "outputs": [
    {
     "name": "stdout",
     "output_type": "stream",
     "text": [
      "Naive Bayes AUC Scores: [0.5 0.5 0.5 0.5 0.5]\n",
      "Mean: 0.5 | Std: 0.0\n"
     ]
    }
   ],
   "source": [
    "nb_preprocessor = ColumnTransformer(transformers=[\n",
    "    ('num', Pipeline([\n",
    "        ('imputer', SimpleImputer(strategy='median')),\n",
    "        ('scaler', StandardScaler())\n",
    "    ]), numeric_features),\n",
    "    ('cat', Pipeline([\n",
    "        ('imputer', SimpleImputer(strategy='most_frequent')),\n",
    "        ('encoder', OneHotEncoder(handle_unknown='ignore', sparse_output=False))  # Disable sparse matrix\n",
    "    ]), categorical_features)\n",
    "])\n",
    "\n",
    "nb_pipe = Pipeline([\n",
    "    ('preprocessor', nb_preprocessor),\n",
    "    ('classifier', GaussianNB())\n",
    "])\n",
    "\n",
    "nb_scores = cross_val_score(nb_pipe, X_resampled, y_resampled, cv=5, scoring='roc_auc', n_jobs=-1)\n",
    "print(\"Naive Bayes AUC Scores:\", nb_scores)\n",
    "print(\"Mean:\", round(nb_scores.mean(), 4), \"| Std:\", round(nb_scores.std(), 4))"
   ]
  },
  {
   "cell_type": "code",
   "execution_count": 53,
   "id": "114396b5",
   "metadata": {},
   "outputs": [
    {
     "name": "stdout",
     "output_type": "stream",
     "text": [
      "['male', 'age', 'education', 'currentSmoker', 'cigsPerDay', 'BPMeds', 'prevalentStroke', 'prevalentHyp', 'diabetes', 'totChol', 'sysBP', 'diaBP', 'BMI', 'heartRate', 'TenYearCHD']\n"
     ]
    }
   ],
   "source": [
    "print(X_train.columns.tolist())\n"
   ]
  },
  {
   "cell_type": "code",
   "execution_count": null,
   "id": "742ab49d",
   "metadata": {},
   "outputs": [
    {
     "data": {
      "image/png": "[encoded data removed]",
      "text/plain": [
       "<Figure size 800x600 with 1 Axes>"
      ]
     },
     "metadata": {},
     "output_type": "display_data"
    }
   ],
   "source": [
    "X_train, X_test, y_train, y_test = train_test_split(\n",
    "    X_resampled, y_resampled, test_size=0.2, stratify=y_resampled, random_state=42)\n",
    "\n",
    "best_pipeline = Pipeline(steps=[\n",
    "    ('preprocessor', preprocessor),\n",
    "    ('classifier', RandomForestClassifier(random_state=42))\n",
    "])\n",
    "\n",
    "\n",
    "best_pipeline.fit(X_train, y_train)\n",
    "\n",
    "y_prob = best_pipeline.predict_proba(X_test)[:, 1]\n",
    "fpr, tpr, _ = roc_curve(y_test, y_prob)\n",
    "roc_auc = auc(fpr, tpr)\n",
    "\n",
    "plt.figure(figsize=(8, 6))\n",
    "plt.plot(fpr, tpr, label=f\"ROC Curve (AUC = {roc_auc:.3f})\")\n",
    "plt.plot([0, 1], [0, 1], linestyle='--', color='gray')\n",
    "plt.xlabel(\"False Positive Rate\")\n",
    "plt.ylabel(\"True Positive Rate\")\n",
    "plt.title(\"ROC Curve on Test Set\")\n",
    "plt.legend()\n",
    "plt.grid(True)\n",
    "plt.tight_layout()\n",
    "plt.show()"
   ]
  },
  {
   "cell_type": "code",
   "execution_count": 58,
   "id": "42c0e4dc",
   "metadata": {},
   "outputs": [
    {
     "data": {
      "image/png": "[encoded data removed]",
      "text/plain": [
       "<Figure size 1000x600 with 1 Axes>"
      ]
     },
     "metadata": {},
     "output_type": "display_data"
    }
   ],
   "source": [
    "# Get one-hot encoded feature names\n",
    "encoder = best_pipeline.named_steps['preprocessor'].named_transformers_['cat'].named_steps['encoder']\n",
    "encoded_cat_features = encoder.get_feature_names_out(categorical_features)\n",
    "\n",
    "# Combine all feature names\n",
    "all_feature_names = np.concatenate([numeric_features, encoded_cat_features])\n",
    "\n",
    "importances = best_pipeline.named_steps['classifier'].feature_importances_\n",
    "\n",
    "feat_imp_df = pd.DataFrame({\n",
    "    'Feature': all_feature_names,\n",
    "    'Importance': importances\n",
    "}).sort_values(by='Importance', ascending=False)\n",
    "\n",
    "# Plot\n",
    "plt.figure(figsize=(10, 6))\n",
    "plt.barh(feat_imp_df['Feature'][:20][::-1], feat_imp_df['Importance'][:20][::-1])\n",
    "plt.xlabel(\"Feature Importance\")\n",
    "plt.title(\"Top 20 Important Features - Random Forest\")\n",
    "plt.tight_layout()\n",
    "plt.grid(True)\n",
    "plt.show()"
   ]
  },
  {
   "cell_type": "markdown",
   "id": "13a2debc",
   "metadata": {},
   "source": [
    "# Hyperparameter Tuning"
   ]
  },
  {
   "cell_type": "code",
   "execution_count": 59,
   "id": "1d89f75c",
   "metadata": {},
   "outputs": [],
   "source": [
    "# Define parameter grid \"\n",
    "param_grid = {\n",
    "    'classifier__n_estimators': [100, 200, 300, 400, 500],\n",
    "    'classifier__max_depth': [10, 20, 30, 40],\n",
    "    'classifier__min_samples_split': [2, 5],\n",
    "    'classifier__min_samples_leaf': [1, 2],\n",
    "    'classifier__max_features': ['sqrt', 'log2']\n",
    "}\n"
   ]
  },
  {
   "cell_type": "code",
   "execution_count": 60,
   "id": "b3379767",
   "metadata": {},
   "outputs": [],
   "source": [
    "# Grid Search with CV on the full pipeline\n",
    "grid_search = GridSearchCV(\n",
    "    estimator=best_pipeline,\n",
    "    param_grid=param_grid,\n",
    "    scoring='roc_auc',\n",
    "    cv=5,\n",
    "    n_jobs=-1,\n",
    "    verbose=1\n",
    ")"
   ]
  },
  {
   "cell_type": "code",
   "execution_count": 61,
   "id": "ee8eb6e4",
   "metadata": {},
   "outputs": [
    {
     "name": "stdout",
     "output_type": "stream",
     "text": [
      "Fitting 5 folds for each of 160 candidates, totalling 800 fits\n"
     ]
    },
    {
     "name": "stderr",
     "output_type": "stream",
     "text": [
      "/opt/anaconda3/lib/python3.12/site-packages/joblib/externals/loky/process_executor.py:752: UserWarning: A worker stopped while some jobs were given to the executor. This can be caused by a too short worker timeout or by a memory leak.\n",
      "  warnings.warn(\n"
     ]
    },
    {
     "data": {
      "text/plain": [
       "{'Best Parameters': {'classifier__max_depth': 40,\n",
       "  'classifier__max_features': 'sqrt',\n",
       "  'classifier__min_samples_leaf': 1,\n",
       "  'classifier__min_samples_split': 2,\n",
       "  'classifier__n_estimators': 500},\n",
       " 'Cross-Validated AUC': 0.9566}"
      ]
     },
     "execution_count": 61,
     "metadata": {},
     "output_type": "execute_result"
    }
   ],
   "source": [
    "grid_search.fit(X_resampled, y_resampled)\n",
    "\n",
    "# Best model\n",
    "best_pipeline = grid_search.best_estimator_\n",
    "best_params = grid_search.best_params_\n",
    "y_prob = best_pipeline.predict_proba(X_resampled)[:, 1]\n",
    "\n",
    "# Evaluation\n",
    "tuned_results = {\n",
    "    \"Best Parameters\": best_params,\n",
    "    \"Cross-Validated AUC\": round(grid_search.best_score_, 4),\n",
    "}\n",
    "tuned_results"
   ]
  },
  {
   "cell_type": "markdown",
   "id": "596f8e6a",
   "metadata": {},
   "source": [
    "## Save best model"
   ]
  },
  {
   "cell_type": "code",
   "execution_count": 62,
   "id": "4e60b6ee",
   "metadata": {},
   "outputs": [],
   "source": [
    "with open('risk_classifier2.pkl', 'wb') as f:\n",
    "    pickle.dump(best_pipeline, f)"
   ]
  }
 ],
 "metadata": {
  "kernelspec": {
   "display_name": "base",
   "language": "python",
   "name": "python3"
  },
  "language_info": {
   "codemirror_mode": {
    "name": "ipython",
    "version": 3
   },
   "file_extension": ".py",
   "mimetype": "text/x-python",
   "name": "python",
   "nbconvert_exporter": "python",
   "pygments_lexer": "ipython3",
   "version": "3.12.4"
  }
 },
 "nbformat": 4,
 "nbformat_minor": 5
}
